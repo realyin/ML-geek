{
 "cells": [
  {
   "cell_type": "markdown",
   "id": "d33dcb08",
   "metadata": {},
   "source": [
    "关于误差的概念\n",
    "\n",
    "▶ 模型误差 →假设模型形式和现实的差别；  \n",
    "▶ 估计误差 →得到模型过程中造成的误差；  \n",
    "▶ 优化误差 →求解过程中的误差；  \n",
    "▶ 评估误差 →评估本身也存在误差  "
   ]
  },
  {
   "cell_type": "code",
   "execution_count": 8,
   "id": "0966ea89",
   "metadata": {
    "ExecuteTime": {
     "end_time": "2021-10-26T07:21:51.317385Z",
     "start_time": "2021-10-26T07:21:51.299401Z"
    }
   },
   "outputs": [
    {
     "data": {
      "text/plain": [
       "[(0, 1),\n",
       " (1, 2),\n",
       " (2, 4),\n",
       " (3, 8),\n",
       " (4, 16),\n",
       " (5, 32),\n",
       " (6, 64),\n",
       " (7, 128),\n",
       " (8, 256),\n",
       " (9, 512),\n",
       " (10, 1024),\n",
       " (11, 2048),\n",
       " (12, 4096),\n",
       " (13, 8192),\n",
       " (14, 16384),\n",
       " (15, 32768),\n",
       " (16, 65536),\n",
       " (17, 131072),\n",
       " (18, 262144),\n",
       " (19, 524288)]"
      ]
     },
     "execution_count": 8,
     "metadata": {},
     "output_type": "execute_result"
    }
   ],
   "source": [
    "import numpy as np\n",
    "[ (i,np.power(2,i)) for i in range(0,20)]"
   ]
  },
  {
   "cell_type": "code",
   "execution_count": 6,
   "id": "e3384581",
   "metadata": {
    "ExecuteTime": {
     "end_time": "2021-10-26T07:20:59.942407Z",
     "start_time": "2021-10-26T07:20:59.924649Z"
    }
   },
   "outputs": [
    {
     "data": {
      "text/plain": [
       "10"
      ]
     },
     "execution_count": 6,
     "metadata": {},
     "output_type": "execute_result"
    }
   ],
   "source": [
    "2^8"
   ]
  },
  {
   "cell_type": "markdown",
   "id": "c1ecba0b",
   "metadata": {},
   "source": [
    "# Tobit模型"
   ]
  },
  {
   "cell_type": "markdown",
   "id": "6cff49d8",
   "metadata": {},
   "source": [
    "在回归分析时，连续型的变量有时候因为截断（Truncated）或者截堵（Censored）而只能取一定范围的值，会导致估计量不一致。如果观测值被系统从样本中剔除，称为截断，如果部分观测值被限制在某个点上，被称为截堵。  \n",
    "例如：  \n",
    "在研究家庭负债额的决定因素时，有较多的被解释变量（负责额）为0，有些家庭因无负债也无借款给别人，故负债为0，也有的家庭借款给其他人（负债额为负）时，没有在数据上反映出来。当只选择负债大于0的样本时，为截断变量，如果负债为负的样本被保存但此时负债额为0，则为截堵变量。  \n",
    "以上情况被称为**受限因变量**。模型为**截断回归模型**及**截堵回归模型**。  \n",
    "  \n",
    " 当潜变量$y^*$小于等于0时，被解释变量$y$等于0，当$y^*$大于0时，被解释变量$y=y^*$。  \n",
    "\n",
    "$y_i^*=f(x_i)+\\mu, \\mu\\sim N(0,\\sigma^2)$  \n",
    "\n",
    "$y_i=\\begin{cases}\n",
    "y^*_i, &\\mbox{if }y_i^*>0; \\\\\n",
    "0,  & \\mbox{if }y_i^*\\leq 0;\n",
    "\\end{cases}$  \n",
    "  \n",
    "$\\because \\mu\\sim N(0,\\sigma^2)$  \n",
    "$\\therefore y^*\\sim N(f(x),\\sigma^2)$\n",
    "  \n",
    "$p(y_i>0)=p(y^*_i)=\\frac{1}{\\sqrt{2\\pi}\\sigma}\\exp\\left(-\\frac{(y^*_i-f(x_i))^2}{2\\sigma^2}\\right)$  \n",
    "$p(y_i=0)=p(y_i^*<0)=p(f(x_i)+\\mu<0)=p(\\mu/\\sigma<-f(x_i)/\\sigma)=\\Phi(-\\frac{f(x_i)}{\\sigma})=1-\\Phi(\\frac{f(x_i)}{\\sigma})$\n",
    "\n",
    "对于$y_i$，其似然函数为：  \n",
    "$p(y_i>0)^{I(y_i>0)}p(y_i=0)^{I(y_i=0)}$  \n",
    "取对数：  \n",
    "$I(y_i>0)\\ln(p(y_i>0))+I(y_i=0)\\ln(p(y_i=0))$  \n",
    "通过将上式对i求和,就可以得到容量为n的一个随机样本的对数似然函数，即  \n",
    "$\\sum_{y_i>0}\\ln(p(y_i>0))+\\sum_{y_i=0}\\ln(p(y_i=0))$\n"
   ]
  },
  {
   "cell_type": "markdown",
   "id": "2fdbece9",
   "metadata": {},
   "source": [
    "# 贝叶斯估计\n",
    "\n",
    "假设$ \\mu \\sim N(0, 1), X|\\mu \\sim N(\\mu, 1)$，我们一起来推导 $\\mu$ 的 posterior($p(\\mu|X)$)  \n",
    "说明：$X|\\mu$表示：$(x_1,x_2,...,x_n)|\\mu$\n",
    "\\begin{align}\n",
    "$p(\\mu|X) &=\\frac{p(X|\\mu)p(\\mu)}{\\int p(\\mu|X)p(X)d\\mu}$  \\\\\n",
    "& \\propto p(X|\\mu)p(\\mu)\\\\\n",
    "&\\propto p(x_1,x_2,...,x_n|\\mu)p(\\mu) \\\\\n",
    "&\\propto \\frac{1}{\\sqrt{2\\pi}}exp\\left(-\\frac{\\sum_i(x_i-\\mu)^2}{2}\\right)exp(-\\frac{\\mu^2}{2})\\\\\n",
    "&\\propto exp\\left(-\\frac{\\sum_i(x_i^2-2x_i\\mu+\\mu^2)+\\mu^2}{2}\\right)\\\\\n",
    "&\\propto exp\\left(-\\frac{(N+1)\\mu^2-2\\mu\\sum_ix_i+\\sum_ix_i^2}{2}\\right)\\\\\n",
    "&\\propto exp\\left(-\\frac{\\mu^2-\\frac{2\\sum_ix_i}{N+1}\\mu+\\frac{\\sum_ix_i^2}{N+1}}{\\frac{2}{N+1}}\\right)\\\\\n",
    "&\\propto exp\\left(-\\frac{(\\mu-\\frac{\\sum_ix_i}{N+1})^2}{\\frac{2}{N+1}}\\right)\\\\\n",
    "\\end{align}\n",
    "所以，$p(\\mu|X)\\sim N(\\frac{\\sum_ix_i}{N+1},\\frac{1}{(N+1)^2})$，也是正态分布。  \n",
    "$p(X|\\mu),p(\\mu|X)$分布均为正态分布，称为conjugate Priors."
   ]
  },
  {
   "cell_type": "markdown",
   "id": "3a3079f3",
   "metadata": {},
   "source": [
    "## 变分贝叶斯\n",
    "求证：  \n",
    "$log p(X) − D[q(z)\\Vert p(z | X)] = E_{z\\sim q}[log[p(X | z)] − D[Q(z)\\Vert P(z)]$  \n",
    "其中 D 为 KL-divergence，即 $D(P(x)\\Vert Q(x)) = E_{x\\sim P}(log p(x) − log q(x))。$\n"
   ]
  },
  {
   "cell_type": "markdown",
   "id": "775428b1",
   "metadata": {},
   "source": [
    "证明：  \n",
    "$l.h.s:$  \n",
    "$logp(x)-D[Q(z)\\Vert P(z | X)]$  \n",
    "$=logp(x)-E_{z\\sim q}[logq(z)-log(p(z|X)]$  \n",
    "$=logp(x)-E_{z\\sim q}[logq(z)-logp(X|z)-logp(z)+logp(X)]$  \n",
    "$=logp(x)-E_{z\\sim q}[logq(z)]+E_{z\\sim q}[logp(X|z)]+E_{z\\sim q}[logp(z)]-E_{z\\sim q}[logp(X))]$  \n",
    "$=logp(x)-logp(x)E_{z\\sim q}[1]-E_{z\\sim q}[logq(z)]+E_{z\\sim q}[logp(X|z)]+E_{z\\sim q}[logp(z)]$  \n",
    "$=E_{z\\sim q}[logp(z)]-E_{z\\sim q}[logq(z)]+E_{z\\sim q}[logp(X|z)]$   \n",
    "$r.h.s:$  \n",
    "$E_{z\\sim q}[log(p(X|z)]-E_{z\\sim Q}[logq(z)-logp(z)]$  \n",
    "$l.h.s=r.h.s$\n",
    "\n",
    "上式中，正负号很多，一不小心容易出错。"
   ]
  },
  {
   "cell_type": "code",
   "execution_count": null,
   "id": "d37dac49",
   "metadata": {},
   "outputs": [],
   "source": []
  },
  {
   "cell_type": "code",
   "execution_count": null,
   "id": "ef868ab0",
   "metadata": {},
   "outputs": [],
   "source": []
  },
  {
   "cell_type": "code",
   "execution_count": null,
   "id": "652288ba",
   "metadata": {},
   "outputs": [],
   "source": []
  },
  {
   "cell_type": "code",
   "execution_count": null,
   "id": "5e51c888",
   "metadata": {},
   "outputs": [],
   "source": []
  },
  {
   "cell_type": "code",
   "execution_count": null,
   "id": "d6299d44",
   "metadata": {},
   "outputs": [],
   "source": []
  },
  {
   "cell_type": "code",
   "execution_count": null,
   "id": "50df6dc5",
   "metadata": {},
   "outputs": [],
   "source": []
  },
  {
   "cell_type": "code",
   "execution_count": null,
   "id": "10c96951",
   "metadata": {},
   "outputs": [],
   "source": []
  },
  {
   "cell_type": "code",
   "execution_count": null,
   "id": "3f1bb09b",
   "metadata": {},
   "outputs": [],
   "source": []
  },
  {
   "cell_type": "code",
   "execution_count": null,
   "id": "65da7a02",
   "metadata": {},
   "outputs": [],
   "source": []
  },
  {
   "cell_type": "code",
   "execution_count": null,
   "id": "e1291700",
   "metadata": {},
   "outputs": [],
   "source": []
  },
  {
   "cell_type": "code",
   "execution_count": null,
   "id": "912c3b32",
   "metadata": {},
   "outputs": [],
   "source": []
  },
  {
   "cell_type": "code",
   "execution_count": null,
   "id": "ce9b3c42",
   "metadata": {},
   "outputs": [],
   "source": []
  },
  {
   "cell_type": "code",
   "execution_count": null,
   "id": "b5012c0b",
   "metadata": {},
   "outputs": [],
   "source": []
  },
  {
   "cell_type": "code",
   "execution_count": null,
   "id": "3e4eb3f6",
   "metadata": {},
   "outputs": [],
   "source": []
  },
  {
   "cell_type": "code",
   "execution_count": null,
   "id": "467bf8ab",
   "metadata": {},
   "outputs": [],
   "source": []
  },
  {
   "cell_type": "code",
   "execution_count": null,
   "id": "42d7c40b",
   "metadata": {},
   "outputs": [],
   "source": []
  },
  {
   "cell_type": "code",
   "execution_count": null,
   "id": "28bb7d15",
   "metadata": {},
   "outputs": [],
   "source": []
  },
  {
   "cell_type": "code",
   "execution_count": null,
   "id": "50416cf9",
   "metadata": {},
   "outputs": [],
   "source": []
  },
  {
   "cell_type": "code",
   "execution_count": null,
   "id": "bc015c4f",
   "metadata": {},
   "outputs": [],
   "source": []
  },
  {
   "cell_type": "code",
   "execution_count": null,
   "id": "c7891872",
   "metadata": {},
   "outputs": [],
   "source": []
  },
  {
   "cell_type": "code",
   "execution_count": null,
   "id": "83b01483",
   "metadata": {},
   "outputs": [],
   "source": []
  },
  {
   "cell_type": "code",
   "execution_count": null,
   "id": "3820cc72",
   "metadata": {},
   "outputs": [],
   "source": []
  },
  {
   "cell_type": "code",
   "execution_count": null,
   "id": "1343c0b6",
   "metadata": {},
   "outputs": [],
   "source": []
  },
  {
   "cell_type": "code",
   "execution_count": null,
   "id": "8e0640a6",
   "metadata": {},
   "outputs": [],
   "source": []
  },
  {
   "cell_type": "code",
   "execution_count": null,
   "id": "abd1c74a",
   "metadata": {},
   "outputs": [],
   "source": []
  },
  {
   "cell_type": "code",
   "execution_count": null,
   "id": "fc7cb675",
   "metadata": {},
   "outputs": [],
   "source": []
  },
  {
   "cell_type": "code",
   "execution_count": null,
   "id": "ec2ce90c",
   "metadata": {},
   "outputs": [],
   "source": []
  },
  {
   "cell_type": "code",
   "execution_count": null,
   "id": "6130836c",
   "metadata": {},
   "outputs": [],
   "source": []
  },
  {
   "cell_type": "code",
   "execution_count": null,
   "id": "d99a59f4",
   "metadata": {},
   "outputs": [],
   "source": []
  },
  {
   "cell_type": "code",
   "execution_count": null,
   "id": "8cdbbcfd",
   "metadata": {},
   "outputs": [],
   "source": []
  },
  {
   "cell_type": "code",
   "execution_count": null,
   "id": "15d1d031",
   "metadata": {},
   "outputs": [],
   "source": []
  }
 ],
 "metadata": {
  "kernelspec": {
   "display_name": "Python 3",
   "language": "python",
   "name": "python3"
  },
  "language_info": {
   "codemirror_mode": {
    "name": "ipython",
    "version": 3
   },
   "file_extension": ".py",
   "mimetype": "text/x-python",
   "name": "python",
   "nbconvert_exporter": "python",
   "pygments_lexer": "ipython3",
   "version": "3.8.8"
  },
  "latex_envs": {
   "LaTeX_envs_menu_present": true,
   "autoclose": false,
   "autocomplete": true,
   "bibliofile": "biblio.bib",
   "cite_by": "apalike",
   "current_citInitial": 1,
   "eqLabelWithNumbers": true,
   "eqNumInitial": 1,
   "hotkeys": {
    "equation": "Ctrl-E",
    "itemize": "Ctrl-I"
   },
   "labels_anchors": false,
   "latex_user_defs": false,
   "report_style_numbering": false,
   "user_envs_cfg": false
  },
  "toc": {
   "base_numbering": 1,
   "nav_menu": {},
   "number_sections": true,
   "sideBar": true,
   "skip_h1_title": false,
   "title_cell": "Table of Contents",
   "title_sidebar": "Contents",
   "toc_cell": false,
   "toc_position": {},
   "toc_section_display": true,
   "toc_window_display": false
  }
 },
 "nbformat": 4,
 "nbformat_minor": 5
}
